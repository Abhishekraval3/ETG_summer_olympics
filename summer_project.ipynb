{
  "nbformat": 4,
  "nbformat_minor": 0,
  "metadata": {
    "colab": {
      "name": "Untitled0.ipynb",
      "provenance": []
    },
    "kernelspec": {
      "name": "python3",
      "display_name": "Python 3"
    },
    "language_info": {
      "name": "python"
    }
  },
  "cells": [
    {
      "cell_type": "code",
      "metadata": {
        "id": "lb9HADmrVNUK"
      },
      "source": [
        "import pandas as pd"
      ],
      "execution_count": 11,
      "outputs": []
    },
    {
      "cell_type": "code",
      "metadata": {
        "id": "j3zpdHO1Vem7"
      },
      "source": [
        "oly = pd.read_csv(\"summer.csv\")"
      ],
      "execution_count": 6,
      "outputs": []
    },
    {
      "cell_type": "code",
      "metadata": {
        "colab": {
          "base_uri": "https://localhost:8080/"
        },
        "id": "HNjQX9tiZI3C",
        "outputId": "ce178b3e-08ab-4c64-fc02-46734d3f1933"
      },
      "source": [
        "# Answer for the first question\n",
        "# In how many cities Summer Olympics is held so far?\n",
        "len(oly['City'].unique())  "
      ],
      "execution_count": 8,
      "outputs": [
        {
          "output_type": "execute_result",
          "data": {
            "text/plain": [
              "22"
            ]
          },
          "metadata": {},
          "execution_count": 8
        }
      ]
    },
    {
      "cell_type": "code",
      "metadata": {
        "colab": {
          "base_uri": "https://localhost:8080/"
        },
        "id": "Cbuzgr_vbl73",
        "outputId": "b871f98c-3a93-42e3-8861-9f0d171aab7b"
      },
      "source": [
        "# Answer for the second question\n",
        "# Which sport is having most number of Gold Medals so far? (Top 5)\n",
        "total_gold = oly[oly['Medal'] == 'Gold']\n",
        "total_gold['Sport'].value_counts().head()"
      ],
      "execution_count": 26,
      "outputs": [
        {
          "output_type": "execute_result",
          "data": {
            "text/plain": [
              "Aquatics      1421\n",
              "Athletics     1215\n",
              "Rowing         890\n",
              "Gymnastics     820\n",
              "Fencing        552\n",
              "Name: Sport, dtype: int64"
            ]
          },
          "metadata": {},
          "execution_count": 26
        }
      ]
    },
    {
      "cell_type": "code",
      "metadata": {
        "colab": {
          "base_uri": "https://localhost:8080/"
        },
        "id": "-lteTvbmx6Jn",
        "outputId": "8e99ef88-aea0-4088-f453-82f8b5cb837f"
      },
      "source": [
        "# Answer for the third question\n",
        "# Which sport is having most number of medals so far? (Top 5)\n",
        "oly['Sport'].value_counts().head()"
      ],
      "execution_count": 30,
      "outputs": [
        {
          "output_type": "execute_result",
          "data": {
            "text/plain": [
              "Aquatics      4170\n",
              "Athletics     3638\n",
              "Rowing        2667\n",
              "Gymnastics    2307\n",
              "Fencing       1613\n",
              "Name: Sport, dtype: int64"
            ]
          },
          "metadata": {},
          "execution_count": 30
        }
      ]
    },
    {
      "cell_type": "code",
      "metadata": {
        "colab": {
          "base_uri": "https://localhost:8080/"
        },
        "id": "3PAcDSRlFoQ7",
        "outputId": "4d415692-23d6-48d6-aafd-2fc78f1251b9"
      },
      "source": [
        "# Answer for the Fourth question\n",
        "# Which player has won most number of medals? (Top 5)\n",
        "oly['Athlete'].value_counts().head()"
      ],
      "execution_count": 34,
      "outputs": [
        {
          "output_type": "execute_result",
          "data": {
            "text/plain": [
              "PHELPS, Michael       22\n",
              "LATYNINA, Larisa      18\n",
              "ANDRIANOV, Nikolay    15\n",
              "ONO, Takashi          13\n",
              "SHAKHLIN, Boris       13\n",
              "Name: Athlete, dtype: int64"
            ]
          },
          "metadata": {},
          "execution_count": 34
        }
      ]
    },
    {
      "cell_type": "code",
      "metadata": {
        "colab": {
          "base_uri": "https://localhost:8080/"
        },
        "id": "IqBUw6kaGc7Y",
        "outputId": "bc59ae67-44e6-4615-c7a5-7bb4819d53b4"
      },
      "source": [
        "# Answer for the fifth question\n",
        "# Which player has won most number Gold Medals of medals? (Top 5)\n",
        "total_gold['Athlete'].value_counts().head()"
      ],
      "execution_count": 36,
      "outputs": [
        {
          "output_type": "execute_result",
          "data": {
            "text/plain": [
              "PHELPS, Michael     18\n",
              "LEWIS, Carl          9\n",
              "NURMI, Paavo         9\n",
              "SPITZ, Mark          9\n",
              "LATYNINA, Larisa     9\n",
              "Name: Athlete, dtype: int64"
            ]
          },
          "metadata": {},
          "execution_count": 36
        }
      ]
    },
    {
      "cell_type": "code",
      "metadata": {
        "colab": {
          "base_uri": "https://localhost:8080/"
        },
        "id": "77ZdXSlcHATL",
        "outputId": "a111dfa0-08a8-44db-ffd4-427e094f9d56"
      },
      "source": [
        "# Answer for the sixth question\n",
        "# In which year India won first Gold Medal in Summer Olympics?\n",
        "India_gold = total_gold[total_gold['Country'] == 'IND']\n",
        "first_gold = India_gold.sort_values(['Year'],ascending=True).head(1)\n",
        "first_gold['Year']"
      ],
      "execution_count": 53,
      "outputs": [
        {
          "output_type": "execute_result",
          "data": {
            "text/plain": [
              "5512    1928\n",
              "Name: Year, dtype: int64"
            ]
          },
          "metadata": {},
          "execution_count": 53
        }
      ]
    },
    {
      "cell_type": "code",
      "metadata": {
        "colab": {
          "base_uri": "https://localhost:8080/"
        },
        "id": "7AgElG5uKppF",
        "outputId": "4c9581d0-96ca-4cd0-8472-56001cb595d8"
      },
      "source": [
        "# Answer for the seventh question\n",
        "# Which event is most popular in terms on number of players? (Top 5)\n",
        "oly['Event'].value_counts().head()"
      ],
      "execution_count": 45,
      "outputs": [
        {
          "output_type": "execute_result",
          "data": {
            "text/plain": [
              "Football            1497\n",
              "Hockey              1422\n",
              "Team Competition    1147\n",
              "Basketball          1012\n",
              "Handball             973\n",
              "Name: Event, dtype: int64"
            ]
          },
          "metadata": {},
          "execution_count": 45
        }
      ]
    },
    {
      "cell_type": "code",
      "metadata": {
        "colab": {
          "base_uri": "https://localhost:8080/"
        },
        "id": "qwUhlzCALfeP",
        "outputId": "12c8d8e5-ea53-49d7-b53f-4c00de7a8e38"
      },
      "source": [
        "# Answer for the Eighth question\n",
        "# Which sport is having most female Gold Medalists? (Top 5)\n",
        "Women_gold = total_gold[total_gold['Gender'] == 'Women']\n",
        "Women_gold['Sport'].value_counts().head()"
      ],
      "execution_count": 51,
      "outputs": [
        {
          "output_type": "execute_result",
          "data": {
            "text/plain": [
              "Aquatics      589\n",
              "Athletics     389\n",
              "Gymnastics    268\n",
              "Rowing        217\n",
              "Volleyball    166\n",
              "Name: Sport, dtype: int64"
            ]
          },
          "metadata": {},
          "execution_count": 51
        }
      ]
    }
  ]
}