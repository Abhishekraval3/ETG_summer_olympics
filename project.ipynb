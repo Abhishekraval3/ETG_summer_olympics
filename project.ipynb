{
  "nbformat": 4,
  "nbformat_minor": 0,
  "metadata": {
    "colab": {
      "name": "Untitled0.ipynb",
      "provenance": [],
      "collapsed_sections": []
    },
    "kernelspec": {
      "name": "python3",
      "display_name": "Python 3"
    },
    "language_info": {
      "name": "python"
    }
  },
  "cells": [
    {
      "cell_type": "code",
      "metadata": {
        "id": "lb9HADmrVNUK"
      },
      "source": [
        "import pandas as pd"
      ],
      "execution_count": 1,
      "outputs": []
    },
    {
      "cell_type": "code",
      "metadata": {
        "id": "j3zpdHO1Vem7"
      },
      "source": [
        "oly = pd.read_csv(\"summer.csv\")"
      ],
      "execution_count": 2,
      "outputs": []
    },
    {
      "cell_type": "code",
      "metadata": {
        "colab": {
          "base_uri": "https://localhost:8080/"
        },
        "id": "HNjQX9tiZI3C",
        "outputId": "a85334f1-66ab-458e-e0da-9ff327799f86"
      },
      "source": [
        "# Answer for the first question\n",
        "# In how many cities Summer Olympics is held so far?\n",
        "len(oly['City'].unique())  "
      ],
      "execution_count": 3,
      "outputs": [
        {
          "output_type": "execute_result",
          "data": {
            "text/plain": [
              "22"
            ]
          },
          "metadata": {},
          "execution_count": 3
        }
      ]
    },
    {
      "cell_type": "code",
      "metadata": {
        "colab": {
          "base_uri": "https://localhost:8080/",
          "height": 385
        },
        "id": "Cbuzgr_vbl73",
        "outputId": "d07ce77b-0982-4c0a-e82a-f6e6c1c64964"
      },
      "source": [
        "# Answer for the second question\n",
        "# Which sport is having most number of Gold Medals so far? (Top 5)\n",
        "total_gold = oly[oly['Medal'] == 'Gold']\n",
        "total_gold['Sport'].value_counts().head().plot.bar(figsize = (5,5))"
      ],
      "execution_count": 12,
      "outputs": [
        {
          "output_type": "execute_result",
          "data": {
            "text/plain": [
              "<matplotlib.axes._subplots.AxesSubplot at 0x7f905775cfd0>"
            ]
          },
          "metadata": {},
          "execution_count": 12
        },
        {
          "output_type": "display_data",
          "data": {
            "image/png": "[encoded data removed]",
            "text/plain": [
              "<Figure size 360x360 with 1 Axes>"
            ]
          },
          "metadata": {
            "needs_background": "light"
          }
        }
      ]
    },
    {
      "cell_type": "code",
      "metadata": {
        "colab": {
          "base_uri": "https://localhost:8080/",
          "height": 385
        },
        "id": "-lteTvbmx6Jn",
        "outputId": "f9684dbd-6cd3-4acc-dcf6-810a16a07ec7"
      },
      "source": [
        "# Answer for the third question\n",
        "# Which sport is having most number of medals so far? (Top 5)\n",
        "oly['Sport'].value_counts().head().plot.bar(figsize = (5,5))"
      ],
      "execution_count": 13,
      "outputs": [
        {
          "output_type": "execute_result",
          "data": {
            "text/plain": [
              "<matplotlib.axes._subplots.AxesSubplot at 0x7f90576c7610>"
            ]
          },
          "metadata": {},
          "execution_count": 13
        },
        {
          "output_type": "display_data",
          "data": {
            "image/png": "[encoded data removed]",
            "text/plain": [
              "<Figure size 360x360 with 1 Axes>"
            ]
          },
          "metadata": {
            "needs_background": "light"
          }
        }
      ]
    },
    {
      "cell_type": "code",
      "metadata": {
        "colab": {
          "base_uri": "https://localhost:8080/",
          "height": 444
        },
        "id": "3PAcDSRlFoQ7",
        "outputId": "60f229f8-5756-4f3d-f49c-1edfc5d09414"
      },
      "source": [
        "# Answer for the Fourth question\n",
        "# Which player has won most number of medals? (Top 5)\n",
        "oly['Athlete'].value_counts().head().plot.bar(figsize = (5,5))"
      ],
      "execution_count": 14,
      "outputs": [
        {
          "output_type": "execute_result",
          "data": {
            "text/plain": [
              "<matplotlib.axes._subplots.AxesSubplot at 0x7f90576b23d0>"
            ]
          },
          "metadata": {},
          "execution_count": 14
        },
        {
          "output_type": "display_data",
          "data": {
            "image/png": "[encoded data removed]",
            "text/plain": [
              "<Figure size 360x360 with 1 Axes>"
            ]
          },
          "metadata": {
            "needs_background": "light"
          }
        }
      ]
    },
    {
      "cell_type": "code",
      "metadata": {
        "colab": {
          "base_uri": "https://localhost:8080/",
          "height": 412
        },
        "id": "IqBUw6kaGc7Y",
        "outputId": "dc905164-a8ff-43ab-acb2-0d2e5f9335a3"
      },
      "source": [
        "# Answer for the fifth question\n",
        "# Which player has won most number Gold Medals of medals? (Top 5)\n",
        "total_gold['Athlete'].value_counts().head().plot.bar(figsize = (5,5))"
      ],
      "execution_count": 15,
      "outputs": [
        {
          "output_type": "execute_result",
          "data": {
            "text/plain": [
              "<matplotlib.axes._subplots.AxesSubplot at 0x7f905716bcd0>"
            ]
          },
          "metadata": {},
          "execution_count": 15
        },
        {
          "output_type": "display_data",
          "data": {
            "image/png": "[encoded data removed]",
            "text/plain": [
              "<Figure size 360x360 with 1 Axes>"
            ]
          },
          "metadata": {
            "needs_background": "light"
          }
        }
      ]
    },
    {
      "cell_type": "code",
      "metadata": {
        "colab": {
          "base_uri": "https://localhost:8080/"
        },
        "id": "77ZdXSlcHATL",
        "outputId": "aa24f049-abf4-4f43-c26a-3e57da908c65"
      },
      "source": [
        "# Answer for the sixth question\n",
        "# In which year India won first Gold Medal in Summer Olympics?\n",
        "India_gold = total_gold[total_gold['Country'] == 'IND']\n",
        "first_gold = India_gold.sort_values(['Year'],ascending=True).head(1)\n",
        "first_gold['Year']"
      ],
      "execution_count": 8,
      "outputs": [
        {
          "output_type": "execute_result",
          "data": {
            "text/plain": [
              "5512    1928\n",
              "Name: Year, dtype: int64"
            ]
          },
          "metadata": {},
          "execution_count": 8
        }
      ]
    },
    {
      "cell_type": "code",
      "metadata": {
        "colab": {
          "base_uri": "https://localhost:8080/",
          "height": 417
        },
        "id": "7AgElG5uKppF",
        "outputId": "b26ee242-b1cf-4bb9-cec7-f9baa084ff05"
      },
      "source": [
        "# Answer for the seventh question\n",
        "# Which event is most popular in terms on number of players? (Top 5)\n",
        "oly['Event'].value_counts().head().plot.bar(figsize = (5,5))"
      ],
      "execution_count": 16,
      "outputs": [
        {
          "output_type": "execute_result",
          "data": {
            "text/plain": [
              "<matplotlib.axes._subplots.AxesSubplot at 0x7f9057172e50>"
            ]
          },
          "metadata": {},
          "execution_count": 16
        },
        {
          "output_type": "display_data",
          "data": {
            "image/png": "[encoded data removed]",
            "text/plain": [
              "<Figure size 360x360 with 1 Axes>"
            ]
          },
          "metadata": {
            "needs_background": "light"
          }
        }
      ]
    },
    {
      "cell_type": "code",
      "metadata": {
        "colab": {
          "base_uri": "https://localhost:8080/",
          "height": 385
        },
        "id": "qwUhlzCALfeP",
        "outputId": "3104ba35-92b9-47dc-8d8b-257310ad7a7b"
      },
      "source": [
        "# Answer for the Eighth question\n",
        "# Which sport is having most female Gold Medalists? (Top 5)\n",
        "Women_gold = total_gold[total_gold['Gender'] == 'Women']\n",
        "Women_gold['Sport'].value_counts().head().plot.bar(figsize = (5,5))"
      ],
      "execution_count": 17,
      "outputs": [
        {
          "output_type": "execute_result",
          "data": {
            "text/plain": [
              "<matplotlib.axes._subplots.AxesSubplot at 0x7f905704d810>"
            ]
          },
          "metadata": {},
          "execution_count": 17
        },
        {
          "output_type": "display_data",
          "data": {
            "image/png": "[encoded data removed]",
            "text/plain": [
              "<Figure size 360x360 with 1 Axes>"
            ]
          },
          "metadata": {
            "needs_background": "light"
          }
        }
      ]
    },
    {
      "cell_type": "code",
      "metadata": {
        "id": "czn7t0HpoU3f"
      },
      "source": [
        ""
      ],
      "execution_count": null,
      "outputs": []
    }
  ]
}